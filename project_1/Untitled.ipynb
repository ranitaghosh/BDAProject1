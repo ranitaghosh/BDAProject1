{
 "cells": [
  {
   "cell_type": "code",
   "execution_count": 5,
   "metadata": {
    "collapsed": true
   },
   "outputs": [],
   "source": [
    "import loaddata as ld\n",
    "import pandas as pd"
   ]
  },
  {
   "cell_type": "code",
   "execution_count": 2,
   "metadata": {
    "collapsed": true
   },
   "outputs": [],
   "source": [
    "metacritic_df,movies_df = ld.load_date()"
   ]
  },
  {
   "cell_type": "code",
   "execution_count": 6,
   "metadata": {
    "collapsed": false
   },
   "outputs": [],
   "source": [
    "full_df = pd.merge(movies_df, metacritic_df, how='outer', on='title', sort=True)"
   ]
  },
  {
   "cell_type": "code",
   "execution_count": 20,
   "metadata": {
    "collapsed": false
   },
   "outputs": [
    {
     "name": "stdout",
     "output_type": "stream",
     "text": [
      "6075\n",
      "4765\n",
      "3728\n"
     ]
    }
   ],
   "source": [
    "print len(full_df) \n",
    "print len(metacritic_df) \n",
    "print len(movies_df) \n",
    "metacritic_df.to_excel('C:\\Bigdatatraining\\ct16_cap1_ds5\\metacritic.xlsx')\n",
    "movies_df.to_excel('C:\\Bigdatatraining\\ct16_cap1_ds5\\movies.xlsx')"
   ]
  },
  {
   "cell_type": "code",
   "execution_count": 18,
   "metadata": {
    "collapsed": false
   },
   "outputs": [
    {
     "data": {
      "text/plain": [
       "Red Lights                                            2\n",
       "The Girl with the Dragon Tattoo                       2\n",
       "Godzilla                                              2\n",
       "Halloween                                             2\n",
       "Leviathan                                             2\n",
       "The Girl Next Door                                    2\n",
       "The Visitor                                           2\n",
       "Blood: The Last Vampire                               2\n",
       "The Square                                            2\n",
       "The Notebook                                          2\n",
       "Stolen                                                2\n",
       "RoboCop                                               2\n",
       "The Double                                            2\n",
       "A Nightmare on Elm Street                             2\n",
       "The Other Woman                                       2\n",
       "Brotherhood                                           2\n",
       "Annie                                                 2\n",
       "The Eye                                               2\n",
       "Oldboy                                                2\n",
       "The Avengers                                          2\n",
       "The Signal                                            2\n",
       "Hamlet                                                2\n",
       "Bully                                                 2\n",
       "The Manchurian Candidate                              2\n",
       "Friday the 13th                                       2\n",
       "Focus                                                 2\n",
       "Conan the Barbarian                                   2\n",
       "Death at a Funeral                                    2\n",
       "The Great Gatsby                                      2\n",
       "Leap Year                                             2\n",
       "                                                     ..\n",
       "The Tillman Story                                     1\n",
       "The Book Thief                                        1\n",
       "Small Time Crooks                                     1\n",
       "Smokin' Aces                                          1\n",
       "Hope Springs                                          1\n",
       "The Bourne Legacy                                     1\n",
       "Dead Alive                                            1\n",
       "The Romantics                                         1\n",
       "My Best Friend's Wedding                              1\n",
       "Desert Flower                                         1\n",
       "Returner                                              1\n",
       "Premonition                                           1\n",
       "Land Ho!                                              1\n",
       "A Teacher                                             1\n",
       "The Great Raid                                        1\n",
       "Drive Hard                                            1\n",
       "Warrior                                               1\n",
       "The Drop                                              1\n",
       "The Adventures of Priscilla, Queen of the Desert      1\n",
       "Aliens of the Deep                                    1\n",
       "An Inconvenient Truth                                 1\n",
       "Detective Dee and the Mystery of the Phantom Flame    1\n",
       "Ice Age: The Meltdown                                 1\n",
       "War of the Worlds                                     1\n",
       "The Interrupters                                      1\n",
       "The Fog                                               1\n",
       "Ondine                                                1\n",
       "Exhibition                                            1\n",
       "The Island                                            1\n",
       "Everyone's Hero                                       1\n",
       "Name: title, dtype: int64"
      ]
     },
     "execution_count": 18,
     "metadata": {},
     "output_type": "execute_result"
    }
   ],
   "source": [
    "full_df.title.value_counts()\n",
    "metacritic_df.title.value_counts()"
   ]
  },
  {
   "cell_type": "code",
   "execution_count": 17,
   "metadata": {
    "collapsed": false
   },
   "outputs": [
    {
     "data": {
      "text/html": [
       "<div>\n",
       "<table border=\"1\" class=\"dataframe\">\n",
       "  <thead>\n",
       "    <tr style=\"text-align: right;\">\n",
       "      <th></th>\n",
       "      <th>alt_title</th>\n",
       "      <th>director</th>\n",
       "      <th>domestic_gross</th>\n",
       "      <th>mojo_slug</th>\n",
       "      <th>opening_per_theater</th>\n",
       "      <th>opening_weekend_take</th>\n",
       "      <th>production_budget</th>\n",
       "      <th>release_date_limited</th>\n",
       "      <th>release_date_wide</th>\n",
       "      <th>title</th>\n",
       "      <th>widest_release</th>\n",
       "      <th>worldwide_gross</th>\n",
       "      <th>year</th>\n",
       "    </tr>\n",
       "  </thead>\n",
       "  <tbody>\n",
       "    <tr>\n",
       "      <th>832</th>\n",
       "      <td>Cyrus (2010)</td>\n",
       "      <td>Jay DuplassMark Duplass</td>\n",
       "      <td>7468936.0</td>\n",
       "      <td>cyrus</td>\n",
       "      <td>45429.0</td>\n",
       "      <td>181716.0</td>\n",
       "      <td>7000000.0</td>\n",
       "      <td>None</td>\n",
       "      <td>2010-06-18</td>\n",
       "      <td>Cyrus</td>\n",
       "      <td>454.0</td>\n",
       "      <td>9923855.0</td>\n",
       "      <td>2010.0</td>\n",
       "    </tr>\n",
       "  </tbody>\n",
       "</table>\n",
       "</div>"
      ],
      "text/plain": [
       "        alt_title                 director  domestic_gross mojo_slug  \\\n",
       "832  Cyrus (2010)  Jay DuplassMark Duplass       7468936.0     cyrus   \n",
       "\n",
       "     opening_per_theater  opening_weekend_take  production_budget  \\\n",
       "832              45429.0              181716.0          7000000.0   \n",
       "\n",
       "    release_date_limited release_date_wide  title  widest_release  \\\n",
       "832                 None        2010-06-18  Cyrus           454.0   \n",
       "\n",
       "     worldwide_gross    year  \n",
       "832        9923855.0  2010.0  "
      ]
     },
     "execution_count": 17,
     "metadata": {},
     "output_type": "execute_result"
    }
   ],
   "source": [
    "movies_df[movies_df.title == 'Cyrus']"
   ]
  },
  {
   "cell_type": "code",
   "execution_count": 15,
   "metadata": {
    "collapsed": false
   },
   "outputs": [
    {
     "data": {
      "text/plain": [
       "                                      5\n",
       "Cyrus                                 1\n",
       "Anger Management                      1\n",
       "Possession (2002)                     1\n",
       "Pulp Fiction                          1\n",
       "The Perfect Score                     1\n",
       "3 Strikes                             1\n",
       "Baby Mama                             1\n",
       "Apollo 13                             1\n",
       "I Am Love                             1\n",
       "The Starving Games                    1\n",
       "Miller's Crossing                     1\n",
       "ATM                                   1\n",
       "Dead Alive                            1\n",
       "Tyler Perry's Daddy's Little Girls    1\n",
       "Primer                                1\n",
       "Into the Blue                         1\n",
       "The Pirates Who Don't Do Anything     1\n",
       "Kaboom                                1\n",
       "Manakamana                            1\n",
       "Zombeavers                            1\n",
       "The Deep End of the Ocean             1\n",
       "Amistad                               1\n",
       "The 13th Warrior                      1\n",
       "Chef                                  1\n",
       "Romeo + Juliet                        1\n",
       "The Thomas Crown Affair               1\n",
       "Ping Pong Playa                       1\n",
       "Pitch Black                           1\n",
       "Thirteen Days                         1\n",
       "                                     ..\n",
       "Spanglish                             1\n",
       "Detachment                            1\n",
       "The Tillman Story                     1\n",
       "Mars Needs Moms                       1\n",
       "Kung Fu Panda                         1\n",
       "Lake Placid                           1\n",
       "Premonition                           1\n",
       "Land Ho!                              1\n",
       "Next Friday                           1\n",
       "Ondine                                1\n",
       "The Fugitive                          1\n",
       "War of the Worlds                     1\n",
       "The Siege                             1\n",
       "The Great Raid                        1\n",
       "An Inconvenient Truth                 1\n",
       "Death to Smoochy                      1\n",
       "Margot at the Wedding                 1\n",
       "Moonstruck                            1\n",
       "A Teacher                             1\n",
       "Scent of a Woman                      1\n",
       "The Legend of 1900                    1\n",
       "Clifford's Really Big Movie           1\n",
       "crazy/beautiful                       1\n",
       "Six Days, Seven Nights                1\n",
       "Collateral                            1\n",
       "Carpool                               1\n",
       "Quills                                1\n",
       "Jackass:The Movie                     1\n",
       "Ghost Dog: Way of the Samurai         1\n",
       "Everyone's Hero                       1\n",
       "Name: title, dtype: int64"
      ]
     },
     "execution_count": 15,
     "metadata": {},
     "output_type": "execute_result"
    }
   ],
   "source": [
    "movies_df.title.value_counts()"
   ]
  },
  {
   "cell_type": "code",
   "execution_count": null,
   "metadata": {
    "collapsed": true
   },
   "outputs": [],
   "source": []
  }
 ],
 "metadata": {
  "kernelspec": {
   "display_name": "Python 2",
   "language": "python",
   "name": "python2"
  },
  "language_info": {
   "codemirror_mode": {
    "name": "ipython",
    "version": 2
   },
   "file_extension": ".py",
   "mimetype": "text/x-python",
   "name": "python",
   "nbconvert_exporter": "python",
   "pygments_lexer": "ipython2",
   "version": "2.7.11"
  }
 },
 "nbformat": 4,
 "nbformat_minor": 0
}

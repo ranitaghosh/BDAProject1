{
 "cells": [
  {
   "cell_type": "code",
   "execution_count": 1,
   "metadata": {
    "collapsed": false
   },
   "outputs": [
    {
     "name": "stdout",
     "output_type": "stream",
     "text": [
      "6075\n",
      "4765\n",
      "3728\n"
     ]
    }
   ],
   "source": [
    "import loaddata as ld\n",
    "import pandas as pd\n",
    "reload(ld)\n",
    "metacritic_df,movies_df = ld.load_data()\n",
    "full_df = pd.merge(movies_df, metacritic_df, how='inner', on=['title',], sort=True)\n",
    "print len(full_df) \n",
    "print len(metacritic_df) \n",
    "print len(movies_df) \n",
    "#metacritic_df.to_excel('C:\\Bigdatatraining\\ct16_cap1_ds5\\metacritic.xlsx')\n",
    "#movies_df.to_excel('C:\\Bigdatatraining\\ct16_cap1_ds5\\movies.xlsx')"
   ]
  },
  {
   "cell_type": "code",
   "execution_count": null,
   "metadata": {
    "collapsed": true
   },
   "outputs": [],
   "source": []
  }
 ],
 "metadata": {
  "kernelspec": {
   "display_name": "Python 2",
   "language": "python",
   "name": "python2"
  },
  "language_info": {
   "codemirror_mode": {
    "name": "ipython",
    "version": 2
   },
   "file_extension": ".py",
   "mimetype": "text/x-python",
   "name": "python",
   "nbconvert_exporter": "python",
   "pygments_lexer": "ipython2",
   "version": "2.7.11"
  }
 },
 "nbformat": 4,
 "nbformat_minor": 0
}
